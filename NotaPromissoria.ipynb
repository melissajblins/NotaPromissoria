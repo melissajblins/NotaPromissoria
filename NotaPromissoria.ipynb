{
  "nbformat": 4,
  "nbformat_minor": 0,
  "metadata": {
    "colab": {
      "provenance": [],
      "mount_file_id": "17rZStyLIHARRalgV9REoo9NGA1rg1-5F",
      "authorship_tag": "ABX9TyPYM3+dWrfGslIzC4MtAH6A",
      "include_colab_link": true
    },
    "kernelspec": {
      "name": "python3",
      "display_name": "Python 3"
    },
    "language_info": {
      "name": "python"
    }
  },
  "cells": [
    {
      "cell_type": "markdown",
      "metadata": {
        "id": "view-in-github",
        "colab_type": "text"
      },
      "source": [
        "<a href=\"https://colab.research.google.com/github/melissajblins/NotaPromissoria/blob/main/NotaPromissoria.ipynb\" target=\"_parent\"><img src=\"https://colab.research.google.com/assets/colab-badge.svg\" alt=\"Open In Colab\"/></a>"
      ]
    },
    {
      "cell_type": "markdown",
      "source": [
        "Gerando notas promissórias automatizadas"
      ],
      "metadata": {
        "id": "KG-gvXaQ_Zg-"
      }
    },
    {
      "cell_type": "code",
      "execution_count": 24,
      "metadata": {
        "id": "tJh9Gyw8bjHk"
      },
      "outputs": [],
      "source": [
        "from reportlab.lib.pagesizes import letter\n",
        "from reportlab.pdfgen import canvas\n",
        "from datetime import datetime\n",
        "from dateutil.relativedelta import relativedelta\n",
        "from pydrive.auth import GoogleAuth\n",
        "from pydrive.drive import GoogleDrive\n",
        "\n",
        "def gerar_nota_promissoria(numero_nota, nome_devedor, cpf_devedor, rg_devedor, valor, data_vencimento, nome_emissor, cpf_emissor):\n",
        "    # Configurações de fonte\n",
        "    c.setFont(\"Helvetica-Bold\", 16)\n",
        "    c.drawCentredString(300, 700, \"NOTA PROMISSÓRIA\")\n",
        "\n",
        "    c.setFont(\"Helvetica\", 12)\n",
        "    c.drawString(50, 670, \"Número: \" + str(numero_nota) + \" de 50\")\n",
        "    c.drawString(50, 630, \"Eu, \" + nome_devedor + \", portador do CPF \" + cpf_devedor + \" e RG \" + rg_devedor + \",\")\n",
        "    c.drawString(50, 610, \"pagarei até a data de \" + data_vencimento + \" esta única via de nota promissória a \" + nome_emissor + \",\")\n",
        "    c.drawString(50, 590, \"de CPF \" + cpf_emissor + \" a quantia de dois mil reais (R$2.000,00), em moeda nacional corrente.\")\n",
        "    c.drawString(50, 570, \"Pagável em Conta Poupança do Banco: \")\n",
        "    \n",
        "    c.drawString(50, 530, \"Cidade - Estado (UF), DD/MM/AAAA\")\n",
        "\n",
        "    c.setFont(\"Helvetica\", 12)\n",
        "    c.drawString(50, 480, \"Assinatura do Devedor: ___________________________\")\n",
        "\n",
        "    c.showPage()\n",
        "\n",
        "# Data de vencimento inicial\n",
        "data_vencimento = datetime(2023, 6, 5).date()\n",
        "\n",
        "#Arquivo pdf\n",
        "pdf_filename = \"notas_promissorias.pdf\"\n",
        "c = canvas.Canvas(pdf_filename, pagesize=letter)\n",
        "\n",
        "# Gerar 50 notas promissórias consecutivas\n",
        "for numero_nota in range(1, 51):\n",
        "    # Incrementa um mês na data de vencimento\n",
        "    data_vencimento += relativedelta(months=1)\n",
        "    data_vencimento_str = data_vencimento.strftime(\"%d/%m/%Y\")\n",
        "    \n",
        "    gerar_nota_promissoria(numero_nota, \"Nome do devedor\", \"CPF do devedor\", \"RG do devedor\", 2000, data_vencimento_str, \"Nome do credor\", \"CPF do credor\")\n",
        "\n",
        "c.save()"
      ]
    }
  ]
}